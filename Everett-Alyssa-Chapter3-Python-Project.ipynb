{
 "cells": [
  {
   "cell_type": "code",
   "execution_count": 101,
   "id": "0d89f15e",
   "metadata": {},
   "outputs": [],
   "source": [
    "from IPython.core.debugger import set_trace"
   ]
  },
  {
   "cell_type": "code",
   "execution_count": 102,
   "id": "4d279b11",
   "metadata": {},
   "outputs": [],
   "source": [
    "class Customer:\n",
    "    def changePhone(self):\n",
    "        self.phone = \"555-555-5555\"\n",
    "        myName= \"Pat\""
   ]
  },
  {
   "cell_type": "code",
   "execution_count": 103,
   "id": "92e75861",
   "metadata": {},
   "outputs": [],
   "source": [
    "customer = Customer()\n",
    "customer.changePhone()\n",
    "#Pat needed to be in quotations because it is a string"
   ]
  },
  {
   "cell_type": "code",
   "execution_count": 104,
   "id": "952c6c78",
   "metadata": {},
   "outputs": [],
   "source": [
    "class MyMath:\n",
    "    def __init__(self, numerator=None, denominator=None):\n",
    "        self.numerator = numerator\n",
    "        self.denominator = denominator\n",
    "        \n",
    "    def divide(self, numerator, denominator):\n",
    "        if(denominator==0):\n",
    "            set_trace()\n",
    "            raise ZeroDivisionError(\"Cannot divide by 0\")\n",
    "        result = numerator/denominator\n",
    "        print(result)\n",
    "        set_trace()\n",
    "        return result \n",
    "    \n",
    "    def loadDataFromFile(self, fileLocation):\n",
    "        try:\n",
    "            open(fileLocation,\"r\")\n",
    "        except FileNotFoundError as e:\n",
    "            print(e)"
   ]
  },
  {
   "cell_type": "code",
   "execution_count": null,
   "id": "d54f20c2",
   "metadata": {},
   "outputs": [
    {
     "name": "stdout",
     "output_type": "stream",
     "text": [
      "[Errno 2] No such file or directory: 'C:/myfile/wrongFile.txt'\n",
      "1.2\n",
      "> \u001b[1;32m<ipython-input-104-0dd160c6cd41>\u001b[0m(13)\u001b[0;36mdivide\u001b[1;34m()\u001b[0m\n",
      "\u001b[1;32m     11 \u001b[1;33m        \u001b[0mprint\u001b[0m\u001b[1;33m(\u001b[0m\u001b[0mresult\u001b[0m\u001b[1;33m)\u001b[0m\u001b[1;33m\u001b[0m\u001b[1;33m\u001b[0m\u001b[0m\n",
      "\u001b[0m\u001b[1;32m     12 \u001b[1;33m        \u001b[0mset_trace\u001b[0m\u001b[1;33m(\u001b[0m\u001b[1;33m)\u001b[0m\u001b[1;33m\u001b[0m\u001b[1;33m\u001b[0m\u001b[0m\n",
      "\u001b[0m\u001b[1;32m---> 13 \u001b[1;33m        \u001b[1;32mreturn\u001b[0m \u001b[0mresult\u001b[0m\u001b[1;33m\u001b[0m\u001b[1;33m\u001b[0m\u001b[0m\n",
      "\u001b[0m\u001b[1;32m     14 \u001b[1;33m\u001b[1;33m\u001b[0m\u001b[0m\n",
      "\u001b[0m\u001b[1;32m     15 \u001b[1;33m    \u001b[1;32mdef\u001b[0m \u001b[0mloadDataFromFile\u001b[0m\u001b[1;33m(\u001b[0m\u001b[0mself\u001b[0m\u001b[1;33m,\u001b[0m \u001b[0mfileLocation\u001b[0m\u001b[1;33m)\u001b[0m\u001b[1;33m:\u001b[0m\u001b[1;33m\u001b[0m\u001b[1;33m\u001b[0m\u001b[0m\n",
      "\u001b[0m\n",
      "ipdb> numerator\n",
      "6.0\n",
      "ipdb> denominator\n",
      "5.0\n",
      "ipdb> result\n",
      "1.2\n",
      "ipdb> numerator\n",
      "6.0\n",
      "ipdb> denominator\n",
      "5.0\n",
      "ipdb> result\n",
      "1.2\n"
     ]
    }
   ],
   "source": [
    "mathObject = MyMath()\n",
    "mathObject.loadDataFromFile(\"C:/myfile/wrongFile.txt\")\n",
    "mathObject.divide(6.0, 5.0)\n",
    "mathObject.divide(9.5, 0.0)\n",
    "#ipdb> numerator\n",
    "#6.0\n",
    "#ipdb> denominator\n",
    "#5.0\n",
    "#ipdb> result\n",
    "#1.2"
   ]
  }
 ],
 "metadata": {
  "kernelspec": {
   "display_name": "Python 3",
   "language": "python",
   "name": "python3"
  },
  "language_info": {
   "codemirror_mode": {
    "name": "ipython",
    "version": 3
   },
   "file_extension": ".py",
   "mimetype": "text/x-python",
   "name": "python",
   "nbconvert_exporter": "python",
   "pygments_lexer": "ipython3",
   "version": "3.8.8"
  }
 },
 "nbformat": 4,
 "nbformat_minor": 5
}
