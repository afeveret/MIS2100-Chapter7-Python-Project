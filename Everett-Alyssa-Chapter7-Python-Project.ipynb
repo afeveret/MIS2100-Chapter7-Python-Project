{
 "cells": [
  {
   "cell_type": "code",
   "execution_count": 1,
   "id": "51c36272",
   "metadata": {},
   "outputs": [],
   "source": [
    "class SimpleMath:\n",
    "    def __init__(self, numerator=None, denominator=None):\n",
    "        self.numerator = numerator\n",
    "        self.denominator = denominator\n",
    "        \n",
    "    def divide(self, numerator, denominator):\n",
    "        if(denominator==0):\n",
    "            raise ZeroDivisionError(\"Cannot divide by 0\")\n",
    "        result = numerator/denominator\n",
    "        print(result)\n",
    "        return result "
   ]
  },
  {
   "cell_type": "code",
   "execution_count": 2,
   "id": "67cf95d4",
   "metadata": {},
   "outputs": [],
   "source": [
    "import unittest"
   ]
  },
  {
   "cell_type": "code",
   "execution_count": 3,
   "id": "5d659b82",
   "metadata": {},
   "outputs": [
    {
     "name": "stderr",
     "output_type": "stream",
     "text": [
      "...."
     ]
    },
    {
     "name": "stdout",
     "output_type": "stream",
     "text": [
      "0.25\n",
      "0.14285714285714285\n",
      "0.0\n"
     ]
    },
    {
     "name": "stderr",
     "output_type": "stream",
     "text": [
      "\n",
      "----------------------------------------------------------------------\n",
      "Ran 4 tests in 0.011s\n",
      "\n",
      "OK\n"
     ]
    }
   ],
   "source": [
    "class SimpleMathTest(unittest.TestCase):\n",
    "    def testThatZeroNumeratorReturnsZero(self):\n",
    "        math = SimpleMath()\n",
    "        self.assertEqual(0, math.divide(0,7))\n",
    "    def testThatSmallerNumeratorReturnsDecimalValue(self):\n",
    "        math = SimpleMath()\n",
    "        self.assertEqual(0.25, math.divide(1,4))\n",
    "    def testThatSmallerNumeratorReturnsRepeatingDecimalValue(self):\n",
    "        math = SimpleMath()\n",
    "        self.assertAlmostEqual(0.143, math.divide(1,7),3)\n",
    "    def testThatZeroDenominatorThrowsException(self):\n",
    "        math = SimpleMath()\n",
    "        with self.assertRaises(ZeroDivisionError):\n",
    "            math.divide(7,0);\n",
    "if __name__=='__main__':\n",
    "    unittest.main(argv=['first-arg-is-ignored'], exit=False)"
   ]
  }
 ],
 "metadata": {
  "kernelspec": {
   "display_name": "Python 3",
   "language": "python",
   "name": "python3"
  },
  "language_info": {
   "codemirror_mode": {
    "name": "ipython",
    "version": 3
   },
   "file_extension": ".py",
   "mimetype": "text/x-python",
   "name": "python",
   "nbconvert_exporter": "python",
   "pygments_lexer": "ipython3",
   "version": "3.8.8"
  }
 },
 "nbformat": 4,
 "nbformat_minor": 5
}
