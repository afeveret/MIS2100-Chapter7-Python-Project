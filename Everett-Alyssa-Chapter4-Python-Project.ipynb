{
 "cells": [
  {
   "cell_type": "code",
   "execution_count": 42,
   "id": "846c5b3a",
   "metadata": {},
   "outputs": [],
   "source": [
    "class Department:\n",
    "    def __init__(self, departmentSupervisor):\n",
    "        self.departmentSupervisor = departmentSupervisor\n",
    "        self.departmentAssests = []"
   ]
  },
  {
   "cell_type": "code",
   "execution_count": 43,
   "id": "582f7b40",
   "metadata": {},
   "outputs": [],
   "source": [
    "class DepartmentAssest:\n",
    "    def __init__(self, assestName, assestValue, quantity, expectedLifespan):\n",
    "        self.assestName = None\n",
    "        self.assestValue = None\n",
    "        self.quantity = None\n",
    "        self.expectedLifespan = None"
   ]
  },
  {
   "cell_type": "code",
   "execution_count": 44,
   "id": "308e4464",
   "metadata": {},
   "outputs": [],
   "source": [
    "class DepartmentManager:\n",
    "    def __init__(self):\n",
    "        self.departments = {}"
   ]
  },
  {
   "cell_type": "code",
   "execution_count": 45,
   "id": "c661c14c",
   "metadata": {},
   "outputs": [
    {
     "ename": "TypeError",
     "evalue": "'DepartmentAssest' object is not subscriptable",
     "output_type": "error",
     "traceback": [
      "\u001b[1;31m---------------------------------------------------------------------------\u001b[0m",
      "\u001b[1;31mTypeError\u001b[0m                                 Traceback (most recent call last)",
      "\u001b[1;32m<ipython-input-45-757a27cb18d6>\u001b[0m in \u001b[0;36m<module>\u001b[1;34m\u001b[0m\n\u001b[0;32m     20\u001b[0m \u001b[0mdeptManager\u001b[0m\u001b[1;33m.\u001b[0m\u001b[0mdepartments\u001b[0m\u001b[1;33m[\u001b[0m\u001b[1;34m\"finance\"\u001b[0m\u001b[1;33m]\u001b[0m \u001b[1;33m=\u001b[0m \u001b[0mfinanceDept\u001b[0m\u001b[1;33m\u001b[0m\u001b[1;33m\u001b[0m\u001b[0m\n\u001b[0;32m     21\u001b[0m \u001b[1;33m\u001b[0m\u001b[0m\n\u001b[1;32m---> 22\u001b[1;33m \u001b[0mprint\u001b[0m\u001b[1;33m(\u001b[0m\u001b[0mmktDept\u001b[0m\u001b[1;33m.\u001b[0m\u001b[0mdepartmentAssests\u001b[0m\u001b[1;33m[\u001b[0m\u001b[1;36m0\u001b[0m\u001b[1;33m]\u001b[0m\u001b[1;33m[\u001b[0m\u001b[1;36m0\u001b[0m\u001b[1;33m]\u001b[0m \u001b[1;33m+\u001b[0m \u001b[1;34m\"and\"\u001b[0m \u001b[1;33m+\u001b[0m \u001b[0mmktDept\u001b[0m\u001b[1;33m.\u001b[0m\u001b[0mdepartmentAssests\u001b[0m\u001b[1;33m[\u001b[0m\u001b[1;36m0\u001b[0m\u001b[1;33m]\u001b[0m\u001b[1;33m[\u001b[0m\u001b[1;36m1\u001b[0m\u001b[1;33m]\u001b[0m\u001b[1;33m)\u001b[0m\u001b[1;33m\u001b[0m\u001b[1;33m\u001b[0m\u001b[0m\n\u001b[0m",
      "\u001b[1;31mTypeError\u001b[0m: 'DepartmentAssest' object is not subscriptable"
     ]
    }
   ],
   "source": [
    "deptManager = DepartmentManager()\n",
    "\n",
    "mktDept = Department(\"Jamie Doe\")\n",
    "\n",
    "mktDeptAssest1 = DepartmentAssest(\"desk\", 5000, 2, 10)\n",
    "mktDeptAssest2 = DepartmentAssest(\"computer\", 1500, 5, 5)\n",
    "\n",
    "mktDept.departmentAssests.append(mktDeptAssest1)\n",
    "mktDept.departmentAssests.append(mktDeptAssest2)\n",
    "\n",
    "financeDept = Department(\"Ryan Doe\")\n",
    "\n",
    "financeDeptAssest1 = DepartmentAssest(\"chair\", 500, 2, 10)\n",
    "financeDeptAssest2 = DepartmentAssest(\"calculator\", 500, 3, 5)\n",
    "\n",
    "financeDept.departmentAssests.append(financeDeptAssest1)\n",
    "financeDept.departmentAssests.append(financeDeptAssest2)\n",
    "\n",
    "deptManager.departments[\"marketing\"] = mktDept\n",
    "deptManager.departments[\"finance\"] = financeDept\n",
    "\n",
    "print(\"The marketing department, which is supervised by\" + deptManager.departments[mktDept.departmentSupervisor] + \", has the following assests:\" + mktDept.departmentAssests[0][0] + \"and\" + mktDept.departmentAssests[0][1])\n"
   ]
  },
  {
   "cell_type": "code",
   "execution_count": null,
   "id": "a044f918",
   "metadata": {},
   "outputs": [],
   "source": []
  }
 ],
 "metadata": {
  "kernelspec": {
   "display_name": "Python 3",
   "language": "python",
   "name": "python3"
  },
  "language_info": {
   "codemirror_mode": {
    "name": "ipython",
    "version": 3
   },
   "file_extension": ".py",
   "mimetype": "text/x-python",
   "name": "python",
   "nbconvert_exporter": "python",
   "pygments_lexer": "ipython3",
   "version": "3.8.8"
  }
 },
 "nbformat": 4,
 "nbformat_minor": 5
}
